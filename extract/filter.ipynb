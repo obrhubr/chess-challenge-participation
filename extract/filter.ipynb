{
 "cells": [
  {
   "cell_type": "code",
   "execution_count": 1,
   "metadata": {},
   "outputs": [],
   "source": [
    "import chess.pgn\n",
    "import re"
   ]
  },
  {
   "cell_type": "code",
   "execution_count": 2,
   "metadata": {},
   "outputs": [],
   "source": [
    "pgn = open(\"lichess_db_standard_rated_2023-07.pgn\")\n",
    "outPgn = open(\"filtered.pgn\", \"a\")"
   ]
  },
  {
   "cell_type": "code",
   "execution_count": 3,
   "metadata": {},
   "outputs": [
    {
     "ename": "KeyboardInterrupt",
     "evalue": "",
     "output_type": "error",
     "traceback": [
      "\u001b[1;31m---------------------------------------------------------------------------\u001b[0m",
      "\u001b[1;31mKeyboardInterrupt\u001b[0m                         Traceback (most recent call last)",
      "Cell \u001b[1;32mIn[3], line 2\u001b[0m\n\u001b[0;32m      1\u001b[0m \u001b[39mwhile\u001b[39;00m \u001b[39mTrue\u001b[39;00m:\n\u001b[1;32m----> 2\u001b[0m \tmygame \u001b[39m=\u001b[39m chess\u001b[39m.\u001b[39;49mpgn\u001b[39m.\u001b[39;49mread_game(pgn)\n\u001b[0;32m      3\u001b[0m \t\u001b[39mif\u001b[39;00m mygame \u001b[39mis\u001b[39;00m \u001b[39mNone\u001b[39;00m:\n\u001b[0;32m      4\u001b[0m \t\t\u001b[39mbreak\u001b[39;00m\n",
      "File \u001b[1;32mc:\\Python39\\lib\\site-packages\\chess\\pgn.py:1563\u001b[0m, in \u001b[0;36mread_game\u001b[1;34m(handle, Visitor)\u001b[0m\n\u001b[0;32m   1561\u001b[0m \u001b[39mif\u001b[39;00m consecutive_empty_lines \u001b[39m<\u001b[39m \u001b[39m1\u001b[39m \u001b[39mand\u001b[39;00m line\u001b[39m.\u001b[39misspace():\n\u001b[0;32m   1562\u001b[0m     consecutive_empty_lines \u001b[39m+\u001b[39m\u001b[39m=\u001b[39m \u001b[39m1\u001b[39m\n\u001b[1;32m-> 1563\u001b[0m     line \u001b[39m=\u001b[39m handle\u001b[39m.\u001b[39;49mreadline()\n\u001b[0;32m   1564\u001b[0m     \u001b[39mcontinue\u001b[39;00m\n\u001b[0;32m   1566\u001b[0m \u001b[39m# First token of the game.\u001b[39;00m\n",
      "File \u001b[1;32mc:\\Python39\\lib\\encodings\\cp1252.py:22\u001b[0m, in \u001b[0;36mIncrementalDecoder.decode\u001b[1;34m(self, input, final)\u001b[0m\n\u001b[0;32m     21\u001b[0m \u001b[39mclass\u001b[39;00m \u001b[39mIncrementalDecoder\u001b[39;00m(codecs\u001b[39m.\u001b[39mIncrementalDecoder):\n\u001b[1;32m---> 22\u001b[0m     \u001b[39mdef\u001b[39;00m \u001b[39mdecode\u001b[39m(\u001b[39mself\u001b[39m, \u001b[39minput\u001b[39m, final\u001b[39m=\u001b[39m\u001b[39mFalse\u001b[39;00m):\n\u001b[0;32m     23\u001b[0m         \u001b[39mreturn\u001b[39;00m codecs\u001b[39m.\u001b[39mcharmap_decode(\u001b[39minput\u001b[39m,\u001b[39mself\u001b[39m\u001b[39m.\u001b[39merrors,decoding_table)[\u001b[39m0\u001b[39m]\n",
      "\u001b[1;31mKeyboardInterrupt\u001b[0m: "
     ]
    }
   ],
   "source": [
    "while True:\n",
    "\tmygame = chess.pgn.read_game(pgn)\n",
    "\tif mygame is None:\n",
    "\t\tbreak\n",
    "    \n",
    "\tboard = mygame.next()\n",
    "\tif board is None:\n",
    "\t\tcontinue\n",
    "\tp = re.compile(r\"\\[%eval ((\\+|-)?[0-9]*\\.[0-9]*)\")\n",
    "\te = p.search(board.comment)\n",
    "\n",
    "\tif e is not None:\n",
    "\t\toutPgn.write(str(mygame) + \"\\n\\n\")"
   ]
  },
  {
   "cell_type": "code",
   "execution_count": 20,
   "metadata": {},
   "outputs": [
    {
     "name": "stdout",
     "output_type": "stream",
     "text": [
      "1009306.2150000024 1009299\n"
     ]
    }
   ],
   "source": [
    "from random import randint\n",
    "#values = [randint(-200, 200) for x in range(10000)]\n",
    "values = [-10000, 10, 10]\n",
    "\n",
    "average = sum(values) / len(values)\n",
    "avg_fitness = sum([abs(x - average) for x in values])\n",
    "\n",
    "values.sort()\n",
    "mean = values[len(values) // 2]\n",
    "mean_fitness = sum([abs(x - mean) for x in values])\n",
    "\n",
    "print(avg_fitness, mean_fitness)\n"
   ]
  }
 ],
 "metadata": {
  "kernelspec": {
   "display_name": "Python 3",
   "language": "python",
   "name": "python3"
  },
  "language_info": {
   "codemirror_mode": {
    "name": "ipython",
    "version": 3
   },
   "file_extension": ".py",
   "mimetype": "text/x-python",
   "name": "python",
   "nbconvert_exporter": "python",
   "pygments_lexer": "ipython3",
   "version": "3.10.0"
  },
  "orig_nbformat": 4
 },
 "nbformat": 4,
 "nbformat_minor": 2
}
